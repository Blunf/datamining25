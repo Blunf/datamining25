{
 "cells": [
  {
   "cell_type": "code",
   "execution_count": 3,
   "id": "d9c49df9",
   "metadata": {},
   "outputs": [],
   "source": [
    "import pandas as pd\n",
    "\n",
    "df = pd.read_csv('기온_변환.csv')\n",
    "\n",
    "df.iloc[0,0] = '전국(평균)'\n",
    "\n",
    "df.to_csv('기온_변환.csv', index=False, encoding='utf-8-sig')"
   ]
  },
  {
   "cell_type": "code",
   "execution_count": 5,
   "id": "e72a9fba",
   "metadata": {},
   "outputs": [
    {
     "name": "stdout",
     "output_type": "stream",
     "text": [
      "열 이름이 수정된 데이터가 '기온_변환_수정.csv'에 저장되었습니다.\n"
     ]
    }
   ],
   "source": [
    "import pandas as pd\n",
    "\n",
    "# CSV 파일 읽기\n",
    "df = pd.read_csv('기온_변환.csv', encoding='utf-8-sig')\n",
    "\n",
    "# 열 이름 수정: '행정구역별(1)'에서 '(1)' 제거\n",
    "df.rename(columns={'행정구역별(1)': '행정구역별'}, inplace=True)\n",
    "\n",
    "# 수정된 데이터 저장\n",
    "df.to_csv('기온_변환_수정.csv', index=False, encoding='utf-8-sig')\n",
    "\n",
    "print(\"열 이름이 수정된 데이터가 '기온_변환_수정.csv'에 저장되었습니다.\")"
   ]
  },
  {
   "cell_type": "code",
   "execution_count": null,
   "id": "352e60ab",
   "metadata": {},
   "outputs": [],
   "source": [
    "import pandas as pd\n",
    "file_path =                                '과실감귤.csv'\n",
    "data = pd.read_csv(file_path)\n",
    "\n",
    "transformed_data = data.melt(id_vars=['행정구역별(1)'], var_name='연도', value_name='기온')\n",
    "\n",
    "output_file_path = '기온_변환.csv'\n",
    "transformed_data.to_csv(output_file_path, index=False, encoding='utf-8-sig')\n",
    "\n",
    "print(f\"변환된 데이터가 {output_file_path}에 저장되었습니다.\")"
   ]
  },
  {
   "cell_type": "markdown",
   "id": "ad127c88",
   "metadata": {},
   "source": [
    "----------------"
   ]
  },
  {
   "cell_type": "markdown",
   "id": "32ae809d",
   "metadata": {},
   "source": [
    "과실감귤데이터수정"
   ]
  },
  {
   "cell_type": "code",
   "execution_count": 6,
   "id": "4f159cc7",
   "metadata": {},
   "outputs": [
    {
     "name": "stdout",
     "output_type": "stream",
     "text": [
      "열 이름이 수정된 데이터가 저장되었습니다.\n"
     ]
    }
   ],
   "source": [
    "import pandas as pd\n",
    "\n",
    "# CSV 파일 읽기\n",
    "df = pd.read_csv('과실감귤.csv', encoding='utf-8-sig')\n",
    "\n",
    "# 열 이름 수정: '행정구역별(1)'에서 '(1)' 제거\n",
    "df.rename(columns={'0': '행정구역별'}, inplace=True)\n",
    "\n",
    "# 수정된 데이터 저장\n",
    "df.to_csv('과실감귤.csv', index=False, encoding='utf-8-sig')\n",
    "\n",
    "print(\"열 이름이 수정된 데이터가 저장되었습니다.\")"
   ]
  },
  {
   "cell_type": "code",
   "execution_count": 7,
   "id": "743238ee",
   "metadata": {},
   "outputs": [
    {
     "name": "stdout",
     "output_type": "stream",
     "text": [
      "2행이 삭제된 데이터가 '과실감귤_수정.csv'에 저장되었습니다.\n"
     ]
    }
   ],
   "source": [
    "import pandas as pd\n",
    "\n",
    "# CSV 파일 읽기\n",
    "df = pd.read_csv('과실감귤.csv', encoding='utf-8-sig')\n",
    "\n",
    "# 2행(0-based index 1) 삭제\n",
    "df = df.drop(index=0)\n",
    "\n",
    "# 수정된 데이터 저장\n",
    "df.to_csv('과실감귤_수정.csv', index=False, encoding='utf-8-sig')\n",
    "\n",
    "print(\"2행이 삭제된 데이터가 '과실감귤_수정.csv'에 저장되었습니다.\")"
   ]
  },
  {
   "cell_type": "code",
   "execution_count": 9,
   "id": "5b30fe80",
   "metadata": {},
   "outputs": [],
   "source": [
    "import pandas as pd\n",
    "# CSV 파일 읽기\n",
    "df = pd.read_csv('과실감귤.csv', encoding='utf-8-sig')\n",
    "\n",
    "df.iloc[0,0] = '전국(평균)'\n",
    "\n",
    "df.to_csv('과실감귤_1.csv', index=False, encoding='utf-8-sig')"
   ]
  },
  {
   "cell_type": "code",
   "execution_count": null,
   "id": "9972d395",
   "metadata": {},
   "outputs": [],
   "source": [
    "import pandas as pd\n",
    "file_path =                               '과실감귤.csv'\n",
    "data = pd.read_csv(file_path)\n",
    "\n",
    "transformed_data = data.melt(id_vars=['행정구역별(1)'], var_name='연도', value_name='기온')\n",
    "\n",
    "output_file_path = '기온_변환.csv'\n",
    "transformed_data.to_csv(output_file_path, index=False, encoding='utf-8-sig')\n",
    "\n",
    "print(f\"변환된 데이터가 {output_file_path}에 저장되었습니다.\")"
   ]
  },
  {
   "cell_type": "code",
   "execution_count": 11,
   "id": "05d18473",
   "metadata": {},
   "outputs": [
    {
     "data": {
      "text/html": [
       "<div>\n",
       "<style scoped>\n",
       "    .dataframe tbody tr th:only-of-type {\n",
       "        vertical-align: middle;\n",
       "    }\n",
       "\n",
       "    .dataframe tbody tr th {\n",
       "        vertical-align: top;\n",
       "    }\n",
       "\n",
       "    .dataframe thead th {\n",
       "        text-align: right;\n",
       "    }\n",
       "</style>\n",
       "<table border=\"1\" class=\"dataframe\">\n",
       "  <thead>\n",
       "    <tr style=\"text-align: right;\">\n",
       "      <th></th>\n",
       "      <th>행정구역별</th>\n",
       "      <th>연도</th>\n",
       "      <th>기온</th>\n",
       "      <th>강수량</th>\n",
       "    </tr>\n",
       "  </thead>\n",
       "  <tbody>\n",
       "    <tr>\n",
       "      <th>0</th>\n",
       "      <td>전국(평균)</td>\n",
       "      <td>2015</td>\n",
       "      <td>13.4</td>\n",
       "      <td>949.0</td>\n",
       "    </tr>\n",
       "    <tr>\n",
       "      <th>1</th>\n",
       "      <td>서울특별시</td>\n",
       "      <td>2015</td>\n",
       "      <td>13.6</td>\n",
       "      <td>792.1</td>\n",
       "    </tr>\n",
       "    <tr>\n",
       "      <th>2</th>\n",
       "      <td>부산광역시</td>\n",
       "      <td>2015</td>\n",
       "      <td>15.4</td>\n",
       "      <td>1396.7</td>\n",
       "    </tr>\n",
       "    <tr>\n",
       "      <th>3</th>\n",
       "      <td>대구광역시</td>\n",
       "      <td>2015</td>\n",
       "      <td>14.8</td>\n",
       "      <td>548.5</td>\n",
       "    </tr>\n",
       "    <tr>\n",
       "      <th>4</th>\n",
       "      <td>인천광역시</td>\n",
       "      <td>2015</td>\n",
       "      <td>12.3</td>\n",
       "      <td>633.8</td>\n",
       "    </tr>\n",
       "  </tbody>\n",
       "</table>\n",
       "</div>"
      ],
      "text/plain": [
       "    행정구역별    연도    기온     강수량\n",
       "0  전국(평균)  2015  13.4   949.0\n",
       "1   서울특별시  2015  13.6   792.1\n",
       "2   부산광역시  2015  15.4  1396.7\n",
       "3   대구광역시  2015  14.8   548.5\n",
       "4   인천광역시  2015  12.3   633.8"
      ]
     },
     "execution_count": 11,
     "metadata": {},
     "output_type": "execute_result"
    }
   ],
   "source": [
    "import pandas as pd\n",
    "file_path =                               'Data_1.csv'\n",
    "data = pd.read_csv(file_path)\n",
    "\n",
    "data.head()"
   ]
  },
  {
   "cell_type": "code",
   "execution_count": 13,
   "id": "911ed66f",
   "metadata": {},
   "outputs": [
    {
     "name": "stdout",
     "output_type": "stream",
     "text": [
      "병합된 데이터가 Data_1_감귤병합.csv에 저장되었습니다.\n"
     ]
    }
   ],
   "source": [
    "import pandas as pd\n",
    "\n",
    "# 두 파일 읽기\n",
    "data_1 = pd.read_csv('Data_1.csv', encoding='utf-8-sig')\n",
    "gamgyul_data = pd.read_csv('과실감귤.csv', encoding='utf-8-sig')\n",
    "\n",
    "# 과실감귤 데이터를 melt하여 연도별로 정리\n",
    "gamgyul_data_melted = gamgyul_data.melt(id_vars=['행정구역별'], var_name='연도', value_name='감귤생산량')\n",
    "\n",
    "# 연도의 데이터 타입을 맞추기 위해 문자열로 변환\n",
    "gamgyul_data_melted['연도'] = gamgyul_data_melted['연도'].astype(str)\n",
    "data_1['연도'] = data_1['연도'].astype(str)  # Data_1에서도 연도를 문자열로 변환\n",
    "\n",
    "# 두 데이터프레임 병합 (행정구역별과 연도를 기준으로)\n",
    "merged_data = pd.merge(data_1, gamgyul_data_melted, on=['행정구역별', '연도'], how='left')\n",
    "\n",
    "# 결과 저장\n",
    "output_file_path = 'Data_1_감귤병합.csv'\n",
    "merged_data.to_csv(output_file_path, index=False, encoding='utf-8-sig')\n",
    "\n",
    "print(f\"병합된 데이터가 {output_file_path}에 저장되었습니다.\")"
   ]
  },
  {
   "cell_type": "markdown",
   "id": "3e14aaca",
   "metadata": {},
   "source": [
    "--------------"
   ]
  },
  {
   "cell_type": "code",
   "execution_count": 28,
   "id": "ab08e2bd",
   "metadata": {},
   "outputs": [
    {
     "name": "stdout",
     "output_type": "stream",
     "text": [
      "병합된 데이터가 Data_1.csv에 저장되었습니다.\n"
     ]
    }
   ],
   "source": [
    "import pandas as pd\n",
    "df = pd.read_csv('과실사과퍼당.csv', encoding='utf-8-sig')\n",
    "\n",
    "\n",
    "df.rename(columns={'0': '행정구역별'}, inplace=True)\n",
    "\n",
    "df = df.drop(index=0)\n",
    "\n",
    "df.iloc[0,0] = '전국(평균)'\n",
    "\n",
    "df.to_csv('과실감귤퍼당_1.csv', index=False, encoding='utf-8-sig')\n",
    "\n",
    "data_1 = pd.read_csv('Data_1.csv', encoding='utf-8-sig')\n",
    "gamgyul_data = pd.read_csv('과실감귤퍼당_1.csv', encoding='utf-8-sig')\n",
    "\n",
    "gamgyul_data_melted = gamgyul_data.melt(id_vars=['행정구역별'], var_name='연도', value_name='감귤생산량')\n",
    "\n",
    "gamgyul_data_melted['연도'] = gamgyul_data_melted['연도'].astype(str)\n",
    "data_1['연도'] = data_1['연도'].astype(str)  \n",
    "\n",
    "merged_data = pd.merge(data_1, gamgyul_data_melted, on=['행정구역별', '연도'], how='left')\n",
    "\n",
    "\n",
    "\n",
    "output_file_path = 'Data_1.csv'\n",
    "merged_data.to_csv(output_file_path, index=False, encoding='utf-8-sig')\n",
    "\n",
    "print(f\"병합된 데이터가 {output_file_path}에 저장되었습니다.\")"
   ]
  },
  {
   "cell_type": "code",
   "execution_count": 30,
   "id": "a15e29c6",
   "metadata": {},
   "outputs": [
    {
     "name": "stdout",
     "output_type": "stream",
     "text": [
      "5열의 이름이 변경된 데이터가 'Data_1.csv'에 저장되었습니다.\n"
     ]
    }
   ],
   "source": [
    "import pandas as pd\n",
    "\n",
    "# CSV 파일 읽기\n",
    "df = pd.read_csv('Data_1.csv', encoding='utf-8-sig')\n",
    "\n",
    "# 5열의 이름 변경 (0-based index 4)\n",
    "df.rename(columns={df.columns[4]: '감귤생산량'}, inplace=True)\n",
    "\n",
    "# 결과 저장\n",
    "df.to_csv('Data_1.csv', index=False, encoding='utf-8-sig')\n",
    "\n",
    "print(\"5열의 이름이 변경된 데이터가 'Data_1.csv'에 저장되었습니다.\")"
   ]
  }
 ],
 "metadata": {
  "kernelspec": {
   "display_name": "Python 3",
   "language": "python",
   "name": "python3"
  },
  "language_info": {
   "codemirror_mode": {
    "name": "ipython",
    "version": 3
   },
   "file_extension": ".py",
   "mimetype": "text/x-python",
   "name": "python",
   "nbconvert_exporter": "python",
   "pygments_lexer": "ipython3",
   "version": "3.10.11"
  }
 },
 "nbformat": 4,
 "nbformat_minor": 5
}
