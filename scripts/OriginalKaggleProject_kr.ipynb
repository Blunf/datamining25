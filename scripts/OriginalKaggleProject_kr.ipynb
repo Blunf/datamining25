{
 "cells": [
  {
   "cell_type": "code",
   "execution_count": 8,
   "id": "93cfa490",
   "metadata": {},
   "outputs": [
    {
     "name": "stdout",
     "output_type": "stream",
     "text": [
      "데이터 소스 가져오기 완료.\n"
     ]
    }
   ],
   "source": [
    "# 반드시 이 셀을 실행하여 Kaggle 데이터 소스를 가져오세요.\n",
    "# 이후 이 셀은 삭제해도 됩니다.\n",
    "# 참고: 이 노트북 환경은 Kaggle의 파이썬 환경과 다르므로 일부 라이브러리가 없을 수 있습니다.\n",
    "import kagglehub\n",
    "aadityabansalcodes_telecommunications_industry_customer_churn_dataset_path = kagglehub.dataset_download('aadityabansalcodes/telecommunications-industry-customer-churn-dataset')\n",
    "\n",
    "print('데이터 소스 가져오기 완료.')"
   ]
  },
  {
   "cell_type": "markdown",
   "id": "7b7ddbde",
   "metadata": {},
   "source": [
    "<body>\n",
    "    <h1>데이터셋 소개</h1>\n",
    "<p>\n",
    "이 텔레콤 이탈 데이터셋은 한 통신사 고객의 정보와 이탈(서비스 해지) 여부를 담고 있습니다. 고객의 인구통계(나이, 성별 등)와 서비스 이용 데이터(통화 횟수, 분수, 결제 방식 등) 등 다양한 특성이 포함되어 있습니다.\n",
    "</p>\n",
    "\n",
    "<p>이 데이터셋은 7043개의 샘플과 21개의 특성으로 구성되어 있으며, 고객 이탈 예측을 위한 머신러닝 및 데이터 분석의 벤치마크로 자주 사용됩니다. 이 데이터를 활용해 이탈 위험 고객을 식별하고, 이탈 방지 전략을 세워 고객 유지율과 매출을 높일 수 있습니다.</p>\n",
    "\n",
    "<p>자세한 내용은 아래 링크를 참고하세요:</p>\n",
    "<ul>\n",
    "<li><a href=\"https://www.kaggle.com/blastchar/telco-customer-churn\">Kaggle</a></li>\n",
    "<li><a href=\"https://archive.ics.uci.edu/ml/datasets/Telecom+Customer+Churn\">UCL</a></li>\n",
    "</ul>\n",
    "</body>\n",
    "</html>"
   ]
  },
  {
   "cell_type": "markdown",
   "id": "68928188",
   "metadata": {},
   "source": [
    "**특성 설명**\n",
    "\n",
    "---\n",
    "- **customerID**: 고객 ID\n",
    "- **gender**: 고객 성별(남/여)\n",
    "- **Senior Citizen**: 시니어(고령자) 여부 (1, 0)\n",
    "- **Partner**: 배우자(파트너) 여부 (Yes, No)\n",
    "- **Dependents**: 부양가족 여부 (Yes, No)\n",
    "- **tenure**: 회사와 함께한 개월 수\n",
    "- **Phone Service**: 전화 서비스 가입 여부 (Yes, No)\n",
    "- **Multiple Lines**: 복수 회선 여부 (Yes, No, No phone service)\n",
    "- **Internet Service**: 인터넷 서비스 제공자 (DSL, Fiber optic, No)\n",
    "- **Online Security**: 온라인 보안 서비스 여부 (Yes, No, No internet service)\n",
    "- **Online Backup**: 온라인 백업 서비스 여부 (Yes, No, No internet service)\n",
    "- **Device Protection**: 기기 보호 서비스 여부 (Yes, No, No internet service)\n",
    "- **Tech Support**: 기술 지원 서비스 여부 (Yes, No, No internet service)\n",
    "- **StreamingTV**: TV 스트리밍 서비스 여부 (Yes, No, No internet service)\n",
    "- **Streaming**: 영화 스트리밍 서비스 여부 (Yes, No, No internet service)\n",
    "- **Contract**: 계약 유형 (월별, 1년, 2년)\n",
    "- **Paperless Billing**: 무지(종이 없는) 청구서 여부 (Yes, No)\n",
    "- **Payment Method**: 결제 방식 (전자수표, 우편수표, 자동이체, 신용카드 자동이체)\n",
    "- **Monthly Charges**: 월별 청구 금액\n",
    "- **Total Charges**: 총 청구 금액\n",
    "- **Churn Label**: 이탈 여부 (Yes 또는 No)"
   ]
  },
  {
   "cell_type": "markdown",
   "id": "4d3199ef",
   "metadata": {},
   "source": [
    "## 데이터 탐색을 위한 초기 계획\n",
    "\n",
    "**1. 데이터 개요:**\n",
    "- 데이터셋을 불러오고 구조를 확인합니다.\n",
    "- 주요 컬럼(고객 인구통계, 이탈 여부 등) 파악\n",
    "\n",
    "**2. 기술 통계 분석:**\n",
    "- 수치형 컬럼의 요약 통계 확인\n",
    "- 이탈 분포 시각화 및 트렌드 파악\n",
    "\n",
    "**3. 범주형 분석:**\n",
    "- 범주형 변수 탐색\n",
    "- 이탈률에 미치는 영향 분석\n",
    "\n",
    "**4. 이탈 사유 분석:**\n",
    "- 이탈 사유 조사\n",
    "- 주요 이탈 원인 파악\n",
    "\n",
    "**5. 상관관계 분석**\n",
    "\n",
    "**6. 가설 검정**\n",
    "- 가설(1): 전화 서비스가 이탈에 영향이 있는가?\n",
    "- 가설(2): 계약 유형이 이탈에 영향이 있는가?\n",
    "- 가설(3): 고령자 여부가 이탈에 영향이 있는가?\n",
    "\n",
    "**8. 추가 분석 방향 제안**\n",
    "\n",
    "**8. 데이터 품질 요약**"
   ]
  },
  {
   "cell_type": "code",
   "execution_count": 10,
   "id": "2aad181b",
   "metadata": {},
   "outputs": [
    {
     "ename": "AttributeError",
     "evalue": "partially initialized module 'pandas' has no attribute '_pandas_parser_CAPI' (most likely due to a circular import)",
     "output_type": "error",
     "traceback": [
      "\u001b[1;31m---------------------------------------------------------------------------\u001b[0m",
      "\u001b[1;31mAttributeError\u001b[0m                            Traceback (most recent call last)",
      "Cell \u001b[1;32mIn[10], line 2\u001b[0m\n\u001b[0;32m      1\u001b[0m \u001b[38;5;66;03m# 데이터프레임으로 데이터 읽기\u001b[39;00m\n\u001b[1;32m----> 2\u001b[0m \u001b[38;5;28;01mimport\u001b[39;00m\u001b[38;5;250m \u001b[39m\u001b[38;5;21;01mpandas\u001b[39;00m\u001b[38;5;250m \u001b[39m\u001b[38;5;28;01mas\u001b[39;00m\u001b[38;5;250m \u001b[39m\u001b[38;5;21;01mpd\u001b[39;00m\n\u001b[0;32m      3\u001b[0m df \u001b[38;5;241m=\u001b[39m pd\u001b[38;5;241m.\u001b[39mread_csv(aadityabansalcodes_telecommunications_industry_customer_churn_dataset_path \u001b[38;5;241m+\u001b[39m \u001b[38;5;124m'\u001b[39m\u001b[38;5;124m/Telco_customer_churn.csv\u001b[39m\u001b[38;5;124m'\u001b[39m)\n\u001b[0;32m      4\u001b[0m df\u001b[38;5;241m.\u001b[39mhead(\u001b[38;5;241m4\u001b[39m)\n",
      "File \u001b[1;32mc:\\Users\\santa\\AppData\\Local\\Programs\\Python\\Python310\\lib\\site-packages\\pandas\\__init__.py:151\u001b[0m\n\u001b[0;32m    132\u001b[0m \u001b[38;5;28;01mfrom\u001b[39;00m\u001b[38;5;250m \u001b[39m\u001b[38;5;21;01mpandas\u001b[39;00m\u001b[38;5;21;01m.\u001b[39;00m\u001b[38;5;21;01mcore\u001b[39;00m\u001b[38;5;21;01m.\u001b[39;00m\u001b[38;5;21;01mcomputation\u001b[39;00m\u001b[38;5;21;01m.\u001b[39;00m\u001b[38;5;21;01mapi\u001b[39;00m\u001b[38;5;250m \u001b[39m\u001b[38;5;28;01mimport\u001b[39;00m \u001b[38;5;28meval\u001b[39m\n\u001b[0;32m    134\u001b[0m \u001b[38;5;28;01mfrom\u001b[39;00m\u001b[38;5;250m \u001b[39m\u001b[38;5;21;01mpandas\u001b[39;00m\u001b[38;5;21;01m.\u001b[39;00m\u001b[38;5;21;01mcore\u001b[39;00m\u001b[38;5;21;01m.\u001b[39;00m\u001b[38;5;21;01mreshape\u001b[39;00m\u001b[38;5;21;01m.\u001b[39;00m\u001b[38;5;21;01mapi\u001b[39;00m\u001b[38;5;250m \u001b[39m\u001b[38;5;28;01mimport\u001b[39;00m (\n\u001b[0;32m    135\u001b[0m     concat,\n\u001b[0;32m    136\u001b[0m     lreshape,\n\u001b[1;32m   (...)\u001b[0m\n\u001b[0;32m    148\u001b[0m     qcut,\n\u001b[0;32m    149\u001b[0m )\n\u001b[1;32m--> 151\u001b[0m \u001b[38;5;28;01mfrom\u001b[39;00m\u001b[38;5;250m \u001b[39m\u001b[38;5;21;01mpandas\u001b[39;00m\u001b[38;5;250m \u001b[39m\u001b[38;5;28;01mimport\u001b[39;00m api, arrays, errors, io, plotting, tseries\n\u001b[0;32m    152\u001b[0m \u001b[38;5;28;01mfrom\u001b[39;00m\u001b[38;5;250m \u001b[39m\u001b[38;5;21;01mpandas\u001b[39;00m\u001b[38;5;250m \u001b[39m\u001b[38;5;28;01mimport\u001b[39;00m testing\n\u001b[0;32m    153\u001b[0m \u001b[38;5;28;01mfrom\u001b[39;00m\u001b[38;5;250m \u001b[39m\u001b[38;5;21;01mpandas\u001b[39;00m\u001b[38;5;21;01m.\u001b[39;00m\u001b[38;5;21;01mutil\u001b[39;00m\u001b[38;5;21;01m.\u001b[39;00m\u001b[38;5;21;01m_print_versions\u001b[39;00m\u001b[38;5;250m \u001b[39m\u001b[38;5;28;01mimport\u001b[39;00m show_versions\n",
      "File \u001b[1;32mc:\\Users\\santa\\AppData\\Local\\Programs\\Python\\Python310\\lib\\site-packages\\pandas\\api\\__init__.py:2\u001b[0m\n\u001b[0;32m      1\u001b[0m \u001b[38;5;124;03m\"\"\" public toolkit API \"\"\"\u001b[39;00m\n\u001b[1;32m----> 2\u001b[0m \u001b[38;5;28;01mfrom\u001b[39;00m\u001b[38;5;250m \u001b[39m\u001b[38;5;21;01mpandas\u001b[39;00m\u001b[38;5;21;01m.\u001b[39;00m\u001b[38;5;21;01mapi\u001b[39;00m\u001b[38;5;250m \u001b[39m\u001b[38;5;28;01mimport\u001b[39;00m (\n\u001b[0;32m      3\u001b[0m     extensions,\n\u001b[0;32m      4\u001b[0m     indexers,\n\u001b[0;32m      5\u001b[0m     interchange,\n\u001b[0;32m      6\u001b[0m     types,\n\u001b[0;32m      7\u001b[0m     typing,\n\u001b[0;32m      8\u001b[0m )\n\u001b[0;32m     10\u001b[0m __all__ \u001b[38;5;241m=\u001b[39m [\n\u001b[0;32m     11\u001b[0m     \u001b[38;5;124m\"\u001b[39m\u001b[38;5;124minterchange\u001b[39m\u001b[38;5;124m\"\u001b[39m,\n\u001b[0;32m     12\u001b[0m     \u001b[38;5;124m\"\u001b[39m\u001b[38;5;124mextensions\u001b[39m\u001b[38;5;124m\"\u001b[39m,\n\u001b[1;32m   (...)\u001b[0m\n\u001b[0;32m     15\u001b[0m     \u001b[38;5;124m\"\u001b[39m\u001b[38;5;124mtyping\u001b[39m\u001b[38;5;124m\"\u001b[39m,\n\u001b[0;32m     16\u001b[0m ]\n",
      "File \u001b[1;32mc:\\Users\\santa\\AppData\\Local\\Programs\\Python\\Python310\\lib\\site-packages\\pandas\\api\\typing\\__init__.py:31\u001b[0m\n\u001b[0;32m     19\u001b[0m \u001b[38;5;28;01mfrom\u001b[39;00m\u001b[38;5;250m \u001b[39m\u001b[38;5;21;01mpandas\u001b[39;00m\u001b[38;5;21;01m.\u001b[39;00m\u001b[38;5;21;01mcore\u001b[39;00m\u001b[38;5;21;01m.\u001b[39;00m\u001b[38;5;21;01mwindow\u001b[39;00m\u001b[38;5;250m \u001b[39m\u001b[38;5;28;01mimport\u001b[39;00m (\n\u001b[0;32m     20\u001b[0m     Expanding,\n\u001b[0;32m     21\u001b[0m     ExpandingGroupby,\n\u001b[1;32m   (...)\u001b[0m\n\u001b[0;32m     26\u001b[0m     Window,\n\u001b[0;32m     27\u001b[0m )\n\u001b[0;32m     29\u001b[0m \u001b[38;5;66;03m# TODO: Can't import Styler without importing jinja2\u001b[39;00m\n\u001b[0;32m     30\u001b[0m \u001b[38;5;66;03m# from pandas.io.formats.style import Styler\u001b[39;00m\n\u001b[1;32m---> 31\u001b[0m \u001b[38;5;28;01mfrom\u001b[39;00m\u001b[38;5;250m \u001b[39m\u001b[38;5;21;01mpandas\u001b[39;00m\u001b[38;5;21;01m.\u001b[39;00m\u001b[38;5;21;01mio\u001b[39;00m\u001b[38;5;21;01m.\u001b[39;00m\u001b[38;5;21;01mjson\u001b[39;00m\u001b[38;5;21;01m.\u001b[39;00m\u001b[38;5;21;01m_json\u001b[39;00m\u001b[38;5;250m \u001b[39m\u001b[38;5;28;01mimport\u001b[39;00m JsonReader\n\u001b[0;32m     32\u001b[0m \u001b[38;5;28;01mfrom\u001b[39;00m\u001b[38;5;250m \u001b[39m\u001b[38;5;21;01mpandas\u001b[39;00m\u001b[38;5;21;01m.\u001b[39;00m\u001b[38;5;21;01mio\u001b[39;00m\u001b[38;5;21;01m.\u001b[39;00m\u001b[38;5;21;01mstata\u001b[39;00m\u001b[38;5;250m \u001b[39m\u001b[38;5;28;01mimport\u001b[39;00m StataReader\n\u001b[0;32m     34\u001b[0m __all__ \u001b[38;5;241m=\u001b[39m [\n\u001b[0;32m     35\u001b[0m     \u001b[38;5;124m\"\u001b[39m\u001b[38;5;124mDataFrameGroupBy\u001b[39m\u001b[38;5;124m\"\u001b[39m,\n\u001b[0;32m     36\u001b[0m     \u001b[38;5;124m\"\u001b[39m\u001b[38;5;124mDatetimeIndexResamplerGroupby\u001b[39m\u001b[38;5;124m\"\u001b[39m,\n\u001b[1;32m   (...)\u001b[0m\n\u001b[0;32m     54\u001b[0m     \u001b[38;5;124m\"\u001b[39m\u001b[38;5;124mWindow\u001b[39m\u001b[38;5;124m\"\u001b[39m,\n\u001b[0;32m     55\u001b[0m ]\n",
      "File \u001b[1;32mc:\\Users\\santa\\AppData\\Local\\Programs\\Python\\Python310\\lib\\site-packages\\pandas\\io\\json\\__init__.py:1\u001b[0m\n\u001b[1;32m----> 1\u001b[0m \u001b[38;5;28;01mfrom\u001b[39;00m\u001b[38;5;250m \u001b[39m\u001b[38;5;21;01mpandas\u001b[39;00m\u001b[38;5;21;01m.\u001b[39;00m\u001b[38;5;21;01mio\u001b[39;00m\u001b[38;5;21;01m.\u001b[39;00m\u001b[38;5;21;01mjson\u001b[39;00m\u001b[38;5;21;01m.\u001b[39;00m\u001b[38;5;21;01m_json\u001b[39;00m\u001b[38;5;250m \u001b[39m\u001b[38;5;28;01mimport\u001b[39;00m (\n\u001b[0;32m      2\u001b[0m     read_json,\n\u001b[0;32m      3\u001b[0m     to_json,\n\u001b[0;32m      4\u001b[0m     ujson_dumps,\n\u001b[0;32m      5\u001b[0m     ujson_loads,\n\u001b[0;32m      6\u001b[0m )\n\u001b[0;32m      7\u001b[0m \u001b[38;5;28;01mfrom\u001b[39;00m\u001b[38;5;250m \u001b[39m\u001b[38;5;21;01mpandas\u001b[39;00m\u001b[38;5;21;01m.\u001b[39;00m\u001b[38;5;21;01mio\u001b[39;00m\u001b[38;5;21;01m.\u001b[39;00m\u001b[38;5;21;01mjson\u001b[39;00m\u001b[38;5;21;01m.\u001b[39;00m\u001b[38;5;21;01m_table_schema\u001b[39;00m\u001b[38;5;250m \u001b[39m\u001b[38;5;28;01mimport\u001b[39;00m build_table_schema\n\u001b[0;32m      9\u001b[0m __all__ \u001b[38;5;241m=\u001b[39m [\n\u001b[0;32m     10\u001b[0m     \u001b[38;5;124m\"\u001b[39m\u001b[38;5;124mujson_dumps\u001b[39m\u001b[38;5;124m\"\u001b[39m,\n\u001b[0;32m     11\u001b[0m     \u001b[38;5;124m\"\u001b[39m\u001b[38;5;124mujson_loads\u001b[39m\u001b[38;5;124m\"\u001b[39m,\n\u001b[1;32m   (...)\u001b[0m\n\u001b[0;32m     14\u001b[0m     \u001b[38;5;124m\"\u001b[39m\u001b[38;5;124mbuild_table_schema\u001b[39m\u001b[38;5;124m\"\u001b[39m,\n\u001b[0;32m     15\u001b[0m ]\n",
      "File \u001b[1;32mc:\\Users\\santa\\AppData\\Local\\Programs\\Python\\Python310\\lib\\site-packages\\pandas\\io\\json\\_json.py:71\u001b[0m\n\u001b[0;32m     66\u001b[0m \u001b[38;5;28;01mfrom\u001b[39;00m\u001b[38;5;250m \u001b[39m\u001b[38;5;21;01mpandas\u001b[39;00m\u001b[38;5;21;01m.\u001b[39;00m\u001b[38;5;21;01mio\u001b[39;00m\u001b[38;5;21;01m.\u001b[39;00m\u001b[38;5;21;01mjson\u001b[39;00m\u001b[38;5;21;01m.\u001b[39;00m\u001b[38;5;21;01m_normalize\u001b[39;00m\u001b[38;5;250m \u001b[39m\u001b[38;5;28;01mimport\u001b[39;00m convert_to_line_delimits\n\u001b[0;32m     67\u001b[0m \u001b[38;5;28;01mfrom\u001b[39;00m\u001b[38;5;250m \u001b[39m\u001b[38;5;21;01mpandas\u001b[39;00m\u001b[38;5;21;01m.\u001b[39;00m\u001b[38;5;21;01mio\u001b[39;00m\u001b[38;5;21;01m.\u001b[39;00m\u001b[38;5;21;01mjson\u001b[39;00m\u001b[38;5;21;01m.\u001b[39;00m\u001b[38;5;21;01m_table_schema\u001b[39;00m\u001b[38;5;250m \u001b[39m\u001b[38;5;28;01mimport\u001b[39;00m (\n\u001b[0;32m     68\u001b[0m     build_table_schema,\n\u001b[0;32m     69\u001b[0m     parse_table_schema,\n\u001b[0;32m     70\u001b[0m )\n\u001b[1;32m---> 71\u001b[0m \u001b[38;5;28;01mfrom\u001b[39;00m\u001b[38;5;250m \u001b[39m\u001b[38;5;21;01mpandas\u001b[39;00m\u001b[38;5;21;01m.\u001b[39;00m\u001b[38;5;21;01mio\u001b[39;00m\u001b[38;5;21;01m.\u001b[39;00m\u001b[38;5;21;01mparsers\u001b[39;00m\u001b[38;5;21;01m.\u001b[39;00m\u001b[38;5;21;01mreaders\u001b[39;00m\u001b[38;5;250m \u001b[39m\u001b[38;5;28;01mimport\u001b[39;00m validate_integer\n\u001b[0;32m     73\u001b[0m \u001b[38;5;28;01mif\u001b[39;00m TYPE_CHECKING:\n\u001b[0;32m     74\u001b[0m     \u001b[38;5;28;01mfrom\u001b[39;00m\u001b[38;5;250m \u001b[39m\u001b[38;5;21;01mcollections\u001b[39;00m\u001b[38;5;21;01m.\u001b[39;00m\u001b[38;5;21;01mabc\u001b[39;00m\u001b[38;5;250m \u001b[39m\u001b[38;5;28;01mimport\u001b[39;00m (\n\u001b[0;32m     75\u001b[0m         Hashable,\n\u001b[0;32m     76\u001b[0m         Mapping,\n\u001b[0;32m     77\u001b[0m     )\n",
      "File \u001b[1;32mc:\\Users\\santa\\AppData\\Local\\Programs\\Python\\Python310\\lib\\site-packages\\pandas\\io\\parsers\\__init__.py:1\u001b[0m\n\u001b[1;32m----> 1\u001b[0m \u001b[38;5;28;01mfrom\u001b[39;00m\u001b[38;5;250m \u001b[39m\u001b[38;5;21;01mpandas\u001b[39;00m\u001b[38;5;21;01m.\u001b[39;00m\u001b[38;5;21;01mio\u001b[39;00m\u001b[38;5;21;01m.\u001b[39;00m\u001b[38;5;21;01mparsers\u001b[39;00m\u001b[38;5;21;01m.\u001b[39;00m\u001b[38;5;21;01mreaders\u001b[39;00m\u001b[38;5;250m \u001b[39m\u001b[38;5;28;01mimport\u001b[39;00m (\n\u001b[0;32m      2\u001b[0m     TextFileReader,\n\u001b[0;32m      3\u001b[0m     TextParser,\n\u001b[0;32m      4\u001b[0m     read_csv,\n\u001b[0;32m      5\u001b[0m     read_fwf,\n\u001b[0;32m      6\u001b[0m     read_table,\n\u001b[0;32m      7\u001b[0m )\n\u001b[0;32m      9\u001b[0m __all__ \u001b[38;5;241m=\u001b[39m [\u001b[38;5;124m\"\u001b[39m\u001b[38;5;124mTextFileReader\u001b[39m\u001b[38;5;124m\"\u001b[39m, \u001b[38;5;124m\"\u001b[39m\u001b[38;5;124mTextParser\u001b[39m\u001b[38;5;124m\"\u001b[39m, \u001b[38;5;124m\"\u001b[39m\u001b[38;5;124mread_csv\u001b[39m\u001b[38;5;124m\"\u001b[39m, \u001b[38;5;124m\"\u001b[39m\u001b[38;5;124mread_fwf\u001b[39m\u001b[38;5;124m\"\u001b[39m, \u001b[38;5;124m\"\u001b[39m\u001b[38;5;124mread_table\u001b[39m\u001b[38;5;124m\"\u001b[39m]\n",
      "File \u001b[1;32mc:\\Users\\santa\\AppData\\Local\\Programs\\Python\\Python310\\lib\\site-packages\\pandas\\io\\parsers\\readers.py:32\u001b[0m\n\u001b[0;32m     29\u001b[0m \u001b[38;5;28;01mfrom\u001b[39;00m\u001b[38;5;250m \u001b[39m\u001b[38;5;21;01mpandas\u001b[39;00m\u001b[38;5;21;01m.\u001b[39;00m\u001b[38;5;21;01m_config\u001b[39;00m\u001b[38;5;250m \u001b[39m\u001b[38;5;28;01mimport\u001b[39;00m using_copy_on_write\n\u001b[0;32m     31\u001b[0m \u001b[38;5;28;01mfrom\u001b[39;00m\u001b[38;5;250m \u001b[39m\u001b[38;5;21;01mpandas\u001b[39;00m\u001b[38;5;21;01m.\u001b[39;00m\u001b[38;5;21;01m_libs\u001b[39;00m\u001b[38;5;250m \u001b[39m\u001b[38;5;28;01mimport\u001b[39;00m lib\n\u001b[1;32m---> 32\u001b[0m \u001b[38;5;28;01mfrom\u001b[39;00m\u001b[38;5;250m \u001b[39m\u001b[38;5;21;01mpandas\u001b[39;00m\u001b[38;5;21;01m.\u001b[39;00m\u001b[38;5;21;01m_libs\u001b[39;00m\u001b[38;5;21;01m.\u001b[39;00m\u001b[38;5;21;01mparsers\u001b[39;00m\u001b[38;5;250m \u001b[39m\u001b[38;5;28;01mimport\u001b[39;00m STR_NA_VALUES\n\u001b[0;32m     33\u001b[0m \u001b[38;5;28;01mfrom\u001b[39;00m\u001b[38;5;250m \u001b[39m\u001b[38;5;21;01mpandas\u001b[39;00m\u001b[38;5;21;01m.\u001b[39;00m\u001b[38;5;21;01merrors\u001b[39;00m\u001b[38;5;250m \u001b[39m\u001b[38;5;28;01mimport\u001b[39;00m (\n\u001b[0;32m     34\u001b[0m     AbstractMethodError,\n\u001b[0;32m     35\u001b[0m     ParserWarning,\n\u001b[0;32m     36\u001b[0m )\n\u001b[0;32m     37\u001b[0m \u001b[38;5;28;01mfrom\u001b[39;00m\u001b[38;5;250m \u001b[39m\u001b[38;5;21;01mpandas\u001b[39;00m\u001b[38;5;21;01m.\u001b[39;00m\u001b[38;5;21;01mutil\u001b[39;00m\u001b[38;5;21;01m.\u001b[39;00m\u001b[38;5;21;01m_decorators\u001b[39;00m\u001b[38;5;250m \u001b[39m\u001b[38;5;28;01mimport\u001b[39;00m Appender\n",
      "File \u001b[1;32mparsers.pyx:1418\u001b[0m, in \u001b[0;36minit pandas._libs.parsers\u001b[1;34m()\u001b[0m\n",
      "\u001b[1;31mAttributeError\u001b[0m: partially initialized module 'pandas' has no attribute '_pandas_parser_CAPI' (most likely due to a circular import)"
     ]
    }
   ],
   "source": [
    "# 데이터프레임으로 데이터 읽기\n",
    "import pandas as pd\n",
    "df = pd.read_csv(aadityabansalcodes_telecommunications_industry_customer_churn_dataset_path + '/Telco_customer_churn.csv')\n",
    "df.head(4)"
   ]
  },
  {
   "cell_type": "code",
   "execution_count": null,
   "id": "e32e002b",
   "metadata": {},
   "outputs": [],
   "source": [
    "n_rows, n_columns = df.shape\n",
    "print(f\"컬럼 수: {n_columns}개\\n행 수: {n_rows}개\")"
   ]
  },
  {
   "cell_type": "markdown",
   "id": "302bc9bd",
   "metadata": {},
   "source": [
    "# 기술 통계 분석"
   ]
  },
  {
   "cell_type": "markdown",
   "id": "75b3c94a",
   "metadata": {},
   "source": [
    "<font color=#0b5bdb>**1. Total charge는 float이어야 하지만 object로 표시되고 있습니다. float으로 변환하겠습니다.**</font>"
   ]
  },
  {
   "cell_type": "code",
   "execution_count": null,
   "id": "81f9a7d9",
   "metadata": {},
   "outputs": [],
   "source": [
    "total_charge = df[\"Total Charges\"]\n",
    "missing = total_charge[~total_charge.str.replace(\".\", \"\").str.isdigit()]\n",
    "print(\"총 청구금액 결측치 개수: \", len(missing))\n",
    "missing.head()"
   ]
  },
  {
   "cell_type": "markdown",
   "id": "6711b9f8",
   "metadata": {},
   "source": [
    "---\n",
    "<p>위 데이터프레임에서 볼 수 있듯이, 총 청구금액 컬럼에 일부 결측값이 존재합니다.</p>"
   ]
  },
  {
   "cell_type": "code",
   "execution_count": null,
   "id": "6860993a",
   "metadata": {},
   "outputs": [],
   "source": [
    "# 총 청구금액 컬럼을 숫자형으로 변환\n",
    "df[\"Total Charges\"] = df[\"Total Charges\"].apply(pd.to_numeric, errors=\"coerce\")"
   ]
  },
  {
   "cell_type": "markdown",
   "id": "55f7f867",
   "metadata": {},
   "source": [
    "<font color=#0b5bdb>**2. 수치형 컬럼의 요약 통계 출력**</font>"
   ]
  },
  {
   "cell_type": "markdown",
   "id": "c403bc0b",
   "metadata": {},
   "source": [
    "위 표에서 총 청구금액이 범주형으로 표시되고 있습니다. 이는 잘못된 것으로, 숫자형 컬럼이어야 합니다. 추후 처리하겠습니다."
   ]
  },
  {
   "cell_type": "markdown",
   "id": "dc2f2126",
   "metadata": {},
   "source": [
    "<font color=#0b5bdb>**3. 수치형 컬럼과 이탈 여부의 바차트 분석**</font>"
   ]
  },
  {
   "cell_type": "markdown",
   "id": "f7d0683f",
   "metadata": {},
   "source": [
    "**결과 해석**\n",
    "\n",
    "---\n",
    "#### 가입 개월 수:\n",
    "- 이탈하지 않은 고객(`Churn Label` = \"No\")의 평균 가입 개월 수는 약 37.57개월입니다.\n",
    "- 이탈한 고객(`Churn Label` = \"Yes\")의 평균 가입 개월 수는 약 17.98개월로 더 낮습니다.\n",
    "- 즉, 오래 가입한 고객일수록 이탈 가능성이 낮음을 시사합니다.\n",
    "\n",
    "#### 월별 청구금액:\n",
    "- 이탈하지 않은 고객의 평균 월 청구금액은 약 `$61.27`입니다.\n",
    "- 이탈한 고객의 평균 월 청구금액은 약 `$74.44`로 약간 더 높습니다.\n",
    "- 이탈 고객이 평균적으로 더 높은 월 요금을 내는 경향이 있습니다.\n",
    "\n",
    "#### 총 청구금액:\n",
    "- 이탈하지 않은 고객의 평균 총 청구금액은 약 `$2,554.77`입니다.\n",
    "- 이탈한 고객의 평균 총 청구금액은 약 `$1,531.80`로 더 낮습니다.\n",
    "- 총 청구금액이 높을수록 이탈 가능성이 낮음을 시사합니다.\n",
    "\n",
    "#### CLTV(고객 생애 가치):\n",
    "- 이탈하지 않은 고객의 평균 CLTV는 약 `$4,490.92`입니다.\n",
    "- 이탈한 고객의 평균 CLTV는 약 `$4,149.41`로 약간 더 낮습니다.\n",
    "- 즉, 장기 고객이 더 높은 CLTV를 보입니다."
   ]
  },
  {
   "cell_type": "markdown",
   "id": "a96e6d99",
   "metadata": {},
   "source": [
    "# 범주형 분석"
   ]
  },
  {
   "cell_type": "markdown",
   "id": "2976e991",
   "metadata": {},
   "source": [
    "<font color=#0b5bdb>**1. 데이터셋 내 고유 범주 확인**</font>"
   ]
  },
  {
   "cell_type": "markdown",
   "id": "735f0624",
   "metadata": {},
   "source": [
    "<font color=#0b5bdb>**2. 이탈 여부별 범주 빈도 분석**</font>"
   ]
  },
  {
   "cell_type": "markdown",
   "id": "abf72fd8",
   "metadata": {},
   "source": [
    "<font color=#0b5bdb>**3. 범주별 이탈 빈도 시각화**</font>"
   ]
  },
  {
   "cell_type": "markdown",
   "id": "36632890",
   "metadata": {},
   "source": [
    "**범주별 고객 이탈 분석**\n",
    "\n",
    "---\n",
    "이 보고서에서는 Telco 고객 이탈 데이터셋을 분석하여 고객 이탈 행동을 이해합니다. \"Churn Label\"(이탈 여부)과 다양한 범주형 변수의 관계를 분석했습니다.\n",
    "\n",
    "(이하 각 범주별 해석은 그대로 두고, 필요시 한글로 번역)"
   ]
  },
  {
   "cell_type": "markdown",
   "id": "fc3c4f38",
   "metadata": {},
   "source": [
    "<font color=#0b5bdb>**4. 이탈률 분석**</font>"
   ]
  },
  {
   "cell_type": "code",
   "execution_count": null,
   "id": "2a6bd424",
   "metadata": {},
   "outputs": [],
   "source": [
    "# 이탈 여부 비율 확인\n",
    "churn_label_count = df[\"Churn Label\"].value_counts()\n",
    "fig = plt.figure(figsize=(7, 4), dpi=100)\n",
    "plt.pie(\n",
    "    churn_label_count,\n",
    "    autopct=\"%.2f%%\",\n",
    "    labels=churn_label_count.index,\n",
    "    colors=[\"lightblue\", \"red\"],\n",
    "    explode=[0, 0.1],\n",
    ")\n",
    "plt.title(\"이탈 여부 파이차트\")\n",
    "plt.show()"
   ]
  },
  {
   "cell_type": "markdown",
   "id": "28ff1015",
   "metadata": {},
   "source": [
    "위 그래프에서 이탈률은 `26.54%`임을 알 수 있습니다."
   ]
  },
  {
   "cell_type": "markdown",
   "id": "5d72c0db",
   "metadata": {},
   "source": [
    "# 고객 이탈 사유 분석"
   ]
  },
  {
   "cell_type": "markdown",
   "id": "25d49c2c",
   "metadata": {},
   "source": [
    "<font color=#0b5bdb>**1. 데이터프레임으로 결과 표시**</font>"
   ]
  },
  {
   "cell_type": "markdown",
   "id": "bf244fc6",
   "metadata": {},
   "source": [
    "<font color=#0b5bdb>**2. 트리맵으로 결과 시각화**</font>"
   ]
  },
  {
   "cell_type": "markdown",
   "id": "e94e0a7f",
   "metadata": {},
   "source": [
    "**결과 해석**\n",
    "\n",
    "---\n",
    "이탈 사유 분석을 통해 고객 이탈에 영향을 주는 요인을 파악할 수 있습니다.  \n",
    "예를 들어 `\"고객지원 담당자의 태도\"`가 10.27%로 가장 큰 이탈 사유임을 알 수 있습니다.  \n",
    "(이하 해석은 한글로 자연스럽게 번역)"
   ]
  },
  {
   "cell_type": "markdown",
   "id": "0c46e07f",
   "metadata": {},
   "source": [
    "# 상관관계 분석"
   ]
  },
  {
   "cell_type": "markdown",
   "id": "7fd90aa1",
   "metadata": {},
   "source": [
    "<p style=\"font-size: 16px;\">피어슨 상관계수로 컬럼 간 상관관계를 파악하여 PCA(주성분 분석) 적용 여부를 판단합니다.</p>"
   ]
  },
  {
   "cell_type": "markdown",
   "id": "0a19049b",
   "metadata": {},
   "source": [
    "**상관계수 해석**\n",
    "\n",
    "---\n",
    ">상관계수는 데이터셋 내 다양한 속성 간의 관계를 파악하는 데 도움을 줍니다.  \n",
    "여기서는 몇 가지 주목할 만한 상관관계를 설명합니다:\n",
    "\n",
    "1. `가입 개월 수`와 `총 청구금액`(0.825): 매우 강한 양의 상관관계\n",
    "2. `가입 개월 수`와 `월 청구금액`(0.248): 약한 양의 상관관계\n",
    "3. `총 청구금액`과 `CLTV`(0.341): 양의 상관관계\n",
    "\n",
    "이러한 상관관계는 고객 이탈 예측 및 가치 분석에 활용될 수 있습니다."
   ]
  },
  {
   "cell_type": "markdown",
   "id": "d5d27f8e",
   "metadata": {},
   "source": [
    "# 피처 엔지니어링"
   ]
  },
  {
   "cell_type": "markdown",
   "id": "aae5a6f4",
   "metadata": {},
   "source": [
    "<font color=#0b5bdb>**1. 분석에 불필요한 컬럼 제거**</font>"
   ]
  },
  {
   "cell_type": "markdown",
   "id": "96144af3",
   "metadata": {},
   "source": [
    "<font color=#0b5bdb>**2. 결측치 처리**</font>"
   ]
  },
  {
   "cell_type": "markdown",
   "id": "f5e980ad",
   "metadata": {},
   "source": [
    "**위에서 보듯 `Total Charges` 컬럼에 11개, `Churn Reason` 컬럼에 5174개의 결측치가 있습니다.**\n",
    "\n",
    "`Churn Reason` 컬럼은 대부분의 고객이 이탈하지 않아 결측치가 많습니다.\n",
    "\n",
    "결측치 처리 방법:\n",
    "- 1. 제거\n",
    "- 2. 대체(평균 등)\n",
    "- 3. 마스킹\n",
    "\n",
    "**아래는 `Total Charges` 컬럼을 평균값으로 대체한 예시입니다.**"
   ]
  },
  {
   "cell_type": "markdown",
   "id": "b6714831",
   "metadata": {},
   "source": [
    "<font color=#0b5bdb>**3. 이상치 분석**</font>"
   ]
  },
  {
   "cell_type": "markdown",
   "id": "25d1d7d2",
   "metadata": {},
   "source": [
    "박스플롯에서 `Total Charges`와 `Tenure Months` 컬럼에 이상치가 있음을 알 수 있습니다.  \n",
    "또한, 허용 가능한 왜도는 `-0.5 ~ +0.5`이나, `Total Charges`는 왜도가 0.96으로 높습니다.\n",
    "\n",
    "**해결책**: 로그 변환을 적용해 이상치와 정규성 문제를 완화합니다."
   ]
  },
  {
   "cell_type": "markdown",
   "id": "5fcaf806",
   "metadata": {},
   "source": [
    "위 그래프에서 `Total Charges` 컬럼의 왜도가 0.76으로 줄어든 것을 확인할 수 있습니다."
   ]
  },
  {
   "cell_type": "markdown",
   "id": "066377d4",
   "metadata": {},
   "source": [
    "<font color=#0b5bdb>**4. 범주형 컬럼 인코딩**</font>"
   ]
  },
  {
   "cell_type": "markdown",
   "id": "9cf26738",
   "metadata": {},
   "source": [
    "원-핫 인코딩 적용 결과 컬럼 수가 1175개 늘어나 데이터의 차원이 매우 높아졌습니다."
   ]
  },
  {
   "cell_type": "markdown",
   "id": "36f6eae8",
   "metadata": {},
   "source": [
    "# 가설 검정"
   ]
  },
  {
   "cell_type": "markdown",
   "id": "b374ccbe",
   "metadata": {},
   "source": [
    "**가설 검정**\n",
    "\n",
    "---\n",
    "**가설 1: 전화 서비스가 이탈에 영향을 미치는가?**\n",
    "- 귀무가설(H0): 전화 서비스와 이탈 간에 유의미한 관계가 없다.\n",
    "- 대립가설(H1): 전화 서비스와 이탈 간에 유의미한 관계가 있다.\n",
    "\n",
    "**가설 2: 계약 유형이 이탈에 영향을 미치는가?**\n",
    "- 귀무가설(H0): 계약 유형이 이탈 가능성에 영향을 주지 않는다.\n",
    "- 대립가설(H1): 계약 유형이 이탈 가능성에 유의미한 영향을 준다.\n",
    "\n",
    "**가설 3: 고령자 여부가 이탈에 영향을 미치는가?**\n",
    "- 귀무가설(H0): 고령자 여부가 이탈 가능성에 영향을 주지 않는다.\n",
    "- 대립가설(H1): 고령자 여부가 이탈 가능성에 유의미한 영향을 준다."
   ]
  },
  {
   "cell_type": "markdown",
   "id": "0f9c0031",
   "metadata": {},
   "source": [
    "<p>카이제곱 검정: 범주형 컬럼과 이탈 여부의 관계를 검정합니다.\n",
    "    \n",
    "$\\chi^{2} = \\sum_{i=1}^{n} \\frac{(O_i-E_i)^2}{E_i}$"
   ]
  },
  {
   "cell_type": "markdown",
   "id": "14b374a6",
   "metadata": {},
   "source": [
    "**가설 검정 결과 해석**\n",
    "\n",
    "---\n",
    "**가설 1 (전화 서비스):**\n",
    "- **결론:** p값이 0.34로 유의수준보다 크므로 귀무가설을 기각하지 못합니다. 즉, 전화 서비스와 이탈 간에 유의미한 관계가 없습니다.\n",
    "\n",
    "**가설 2 (계약 유형):**\n",
    "- **결론:** p값이 0.00으로 유의수준보다 작으므로 귀무가설을 기각합니다. 즉, 계약 유형이 이탈에 유의미한 영향을 미칩니다.\n",
    "\n",
    "**가설 3 (고령자 여부):**\n",
    "- **결론:** p값이 0.00으로 유의수준보다 작으므로 귀무가설을 기각합니다. 즉, 고령자 여부가 이탈에 유의미한 영향을 미칩니다."
   ]
  },
  {
   "cell_type": "markdown",
   "id": "a47df6b7",
   "metadata": {},
   "source": [
    "# 데이터 분석 다음 단계 제안\n",
    "\n",
    "---\n",
    "\n",
    "- **고객 세분화**: 다양한 고객군을 분석해 맞춤 전략을 수립할 수 있습니다.\n",
    "- **주성분 분석(PCA)**: 차원 축소로 중요한 특성에 집중할 수 있습니다.\n",
    "- **머신러닝 모델링**: 로지스틱 회귀, 결정트리, 랜덤포레스트, 그래디언트 부스팅 등 분류 알고리즘으로 이탈 예측 모델을 구축할 수 있습니다."
   ]
  },
  {
   "cell_type": "markdown",
   "id": "32ea2731",
   "metadata": {},
   "source": [
    "# 데이터 품질 요약\n",
    "\n",
    "---\n",
    "제공된 데이터는 고객 이탈 분석에 적합한 다양한 변수와 속성을 포함하고 있어 품질이 비교적 높아 보입니다.  \n",
    "다만, 결측치, 이상치, 불일치 등 데이터 정제 과정이 필요할 수 있습니다.  \n",
    "분석 및 의사결정의 품질은 데이터의 정확성과 대표성, 그리고 선택한 특성의 적합성에 달려 있습니다."
   ]
  }
 ],
 "metadata": {
  "kernelspec": {
   "display_name": "Python 3",
   "language": "python",
   "name": "python3"
  },
  "language_info": {
   "codemirror_mode": {
    "name": "ipython",
    "version": 3
   },
   "file_extension": ".py",
   "mimetype": "text/x-python",
   "name": "python",
   "nbconvert_exporter": "python",
   "pygments_lexer": "ipython3",
   "version": "3.10.11"
  }
 },
 "nbformat": 4,
 "nbformat_minor": 5
}
